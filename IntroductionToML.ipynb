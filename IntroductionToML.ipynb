{
  "nbformat": 4,
  "nbformat_minor": 0,
  "metadata": {
    "colab": {
      "name": "IntroductionToML.ipynb",
      "version": "0.3.2",
      "provenance": [],
      "include_colab_link": true
    },
    "kernelspec": {
      "name": "python3",
      "display_name": "Python 3"
    }
  },
  "cells": [
    {
      "cell_type": "markdown",
      "metadata": {
        "id": "view-in-github",
        "colab_type": "text"
      },
      "source": [
        "<a href=\"https://colab.research.google.com/github/srinivasadotnet/MLOps-Session/blob/master/IntroductionToML.ipynb\" target=\"_parent\"><img src=\"https://colab.research.google.com/assets/colab-badge.svg\" alt=\"Open In Colab\"/></a>"
      ]
    },
    {
      "cell_type": "markdown",
      "metadata": {
        "id": "zAdupPz_6_gu",
        "colab_type": "text"
      },
      "source": [
        "##**Environment Setup**\n",
        "1. Execute requirement.txt\n"
      ]
    },
    {
      "cell_type": "code",
      "metadata": {
        "id": "nDGljkY2ykDU",
        "colab_type": "code",
        "colab": {
          "base_uri": "https://localhost:8080/",
          "height": 35
        },
        "outputId": "4d5a0838-811e-4fd4-a092-82eb325063d1"
      },
      "source": [
        "!python --version\n",
        "!pip install azure-cli==2.0.46\n",
        "!pip install --upgrade azureml-sdk[cli]\n",
        "!pip install -r requirements.txt"
      ],
      "execution_count": 2,
      "outputs": [
        {
          "output_type": "stream",
          "text": [
            "Python 3.6.8\n"
          ],
          "name": "stdout"
        }
      ]
    }
  ]
}